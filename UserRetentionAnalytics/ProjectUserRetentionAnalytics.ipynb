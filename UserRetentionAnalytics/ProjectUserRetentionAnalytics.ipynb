{
 "cells": [
  {
   "cell_type": "code",
   "execution_count": 1,
   "id": "acbab771-6255-472c-a2c0-05d757e06b8b",
   "metadata": {},
   "outputs": [
    {
     "name": "stdout",
     "output_type": "stream",
     "text": [
      "Database connection established\n",
      "Tables in the database: [{'Tables_in_userretentiondb': 'AnonymousActivity'}, {'Tables_in_userretentiondb': 'Conversions'}, {'Tables_in_userretentiondb': 'user_retention_data'}, {'Tables_in_userretentiondb': 'UserLogins'}]\n"
     ]
    }
   ],
   "source": [
    "import mysql.connector\n",
    "\n",
    "# Database configuration\n",
    "DATABASE_CONFIG = {\n",
    "    'host': 'localhost',\n",
    "    'user': 'root',\n",
    "    'password': 'SnehaJoshi92$',  # Your MySQL password\n",
    "    'database': 'UserRetentionDB'  # Ensure this database exists\n",
    "}\n",
    "\n",
    "try:\n",
    "    # Establish database connection\n",
    "    db = mysql.connector.connect(\n",
    "        host=DATABASE_CONFIG['host'],\n",
    "        user=DATABASE_CONFIG['user'],\n",
    "        password=DATABASE_CONFIG['password'],\n",
    "        database=DATABASE_CONFIG['database']\n",
    "    )\n",
    "    cursor = db.cursor(dictionary=True)\n",
    "    print(\"Database connection established\")\n",
    "\n",
    "    # Example query to check tables\n",
    "    cursor.execute(\"SHOW TABLES;\")\n",
    "    tables = cursor.fetchall()\n",
    "    print(\"Tables in the database:\", tables)\n",
    "\n",
    "except mysql.connector.Error as err:\n",
    "    print(f\"Error: {err}\")"
   ]
  },
  {
   "cell_type": "code",
   "execution_count": 2,
   "id": "ca48161c-a9d9-48d4-a5bf-959fceb96a25",
   "metadata": {},
   "outputs": [],
   "source": [
    "def log_anonymous_activity(content_id, session_id):\n",
    "    query = \"\"\"\n",
    "        INSERT INTO AnonymousActivity (content_id, session_id)\n",
    "        VALUES (%s, %s)\n",
    "    \"\"\"\n",
    "    cursor.execute(query, (content_id, session_id))\n",
    "    db.commit()\n",
    "    print(\"Anonymous activity logged\")\n",
    "\n",
    "def log_conversion(session_id, user_id):\n",
    "    query = \"\"\"\n",
    "        INSERT INTO Conversions (session_id, user_id)\n",
    "        VALUES (%s, %s)\n",
    "    \"\"\"\n",
    "    cursor.execute(query, (session_id, user_id))\n",
    "    db.commit()\n",
    "    print(\"Conversion logged\")\n",
    "\n",
    "def log_user_login(user_id):\n",
    "    query = \"\"\"\n",
    "        INSERT INTO UserLogins (user_id)\n",
    "        VALUES (%s)\n",
    "    \"\"\"\n",
    "    cursor.execute(query, (user_id,))\n",
    "    db.commit()\n",
    "    print(\"User login logged\")\n"
   ]
  },
  {
   "cell_type": "code",
   "execution_count": 3,
   "id": "4364493b-96f0-470b-b933-de120497c3fa",
   "metadata": {},
   "outputs": [
    {
     "name": "stdout",
     "output_type": "stream",
     "text": [
      "Anonymous activity logged\n"
     ]
    }
   ],
   "source": [
    "log_anonymous_activity(content_id=101, session_id='test_session_1')\n"
   ]
  },
  {
   "cell_type": "code",
   "execution_count": 4,
   "id": "6d93e14f-10a2-45f8-a109-cbf97fc1e4c1",
   "metadata": {},
   "outputs": [
    {
     "name": "stdout",
     "output_type": "stream",
     "text": [
      "Conversion logged\n"
     ]
    }
   ],
   "source": [
    "log_conversion(session_id='test_session_1', user_id=1)\n"
   ]
  },
  {
   "cell_type": "code",
   "execution_count": 5,
   "id": "e1023424-2059-4464-9c70-1f1ccd90ac55",
   "metadata": {},
   "outputs": [
    {
     "name": "stdout",
     "output_type": "stream",
     "text": [
      "User login logged\n"
     ]
    }
   ],
   "source": [
    "log_user_login(user_id=1)\n"
   ]
  },
  {
   "cell_type": "code",
   "execution_count": 6,
   "id": "745eb331-71ab-4474-a49d-62936720d8c3",
   "metadata": {},
   "outputs": [],
   "source": [
    "def get_total_anonymous_activity():\n",
    "    query = \"SELECT COUNT(*) AS TotalAnonymousActivity FROM AnonymousActivity;\"\n",
    "    cursor.execute(query)\n",
    "    result = cursor.fetchone()\n",
    "    return result['TotalAnonymousActivity']\n"
   ]
  },
  {
   "cell_type": "code",
   "execution_count": 7,
   "id": "37ecbdc3-04d4-4f7a-bc3e-cff02b84e76d",
   "metadata": {},
   "outputs": [],
   "source": [
    "def get_conversion_rate():\n",
    "    query = \"\"\"\n",
    "        SELECT \n",
    "            (SELECT COUNT(*) FROM Conversions) / (SELECT COUNT(*) FROM AnonymousActivity) * 100 AS ConversionRate;\n",
    "    \"\"\"\n",
    "    cursor.execute(query)\n",
    "    result = cursor.fetchone()\n",
    "    return result['ConversionRate']\n"
   ]
  },
  {
   "cell_type": "code",
   "execution_count": 8,
   "id": "b20492c1-349c-44d0-ab64-d4afa8a646ed",
   "metadata": {},
   "outputs": [],
   "source": [
    "def get_inactive_users(interval='1 DAY'):\n",
    "    query = f\"\"\"\n",
    "        SELECT user_id, MAX(login_at) AS LastLogin\n",
    "        FROM UserLogins\n",
    "        GROUP BY user_id\n",
    "        HAVING LastLogin < NOW() - INTERVAL {interval};\n",
    "    \"\"\"\n",
    "    cursor.execute(query)\n",
    "    results = cursor.fetchall()\n",
    "    return results\n"
   ]
  },
  {
   "cell_type": "code",
   "execution_count": 9,
   "id": "cc5b2343-48f0-4f15-8a2a-4ec3b43b80d3",
   "metadata": {},
   "outputs": [
    {
     "name": "stdout",
     "output_type": "stream",
     "text": [
      "{'TotalAnonymousActivity': 8}\n"
     ]
    }
   ],
   "source": [
    "query = \"SELECT COUNT(*) AS TotalAnonymousActivity FROM AnonymousActivity;\"\n",
    "cursor.execute(query)\n",
    "print(cursor.fetchone())"
   ]
  },
  {
   "cell_type": "code",
   "execution_count": 10,
   "id": "7f2d7af7-e528-496d-992d-3d4401ae6569",
   "metadata": {},
   "outputs": [
    {
     "name": "stdout",
     "output_type": "stream",
     "text": [
      "{'TotalAnonymousActivity': 8}\n"
     ]
    }
   ],
   "source": [
    "query = \"SELECT COUNT(*) AS TotalAnonymousActivity FROM AnonymousActivity;\"\n",
    "cursor.execute(query)\n",
    "print(cursor.fetchone())\n"
   ]
  },
  {
   "cell_type": "code",
   "execution_count": 11,
   "id": "5d32abd4-cfad-46a6-bb86-796f982612c6",
   "metadata": {},
   "outputs": [
    {
     "name": "stdout",
     "output_type": "stream",
     "text": [
      "{'ConversionRate': Decimal('100.0000')}\n"
     ]
    }
   ],
   "source": [
    "query = \"\"\"\n",
    "    SELECT \n",
    "        (SELECT COUNT(*) FROM Conversions) / (SELECT COUNT(*) FROM AnonymousActivity) * 100 AS ConversionRate;\n",
    "\"\"\"\n",
    "cursor.execute(query)\n",
    "print(cursor.fetchone())\n"
   ]
  },
  {
   "cell_type": "code",
   "execution_count": 12,
   "id": "5abdb84f-83c2-4d78-8872-ecb7ff0e55c2",
   "metadata": {},
   "outputs": [
    {
     "name": "stdout",
     "output_type": "stream",
     "text": [
      "{'user_id': 4, 'LastLogin': datetime.datetime(2024, 12, 13, 15, 45)}\n",
      "{'user_id': 5, 'LastLogin': datetime.datetime(2024, 12, 10, 10, 15)}\n"
     ]
    }
   ],
   "source": [
    "query = \"\"\"\n",
    "    SELECT user_id, MAX(login_at) AS LastLogin \n",
    "    FROM UserLogins \n",
    "    GROUP BY user_id \n",
    "    HAVING LastLogin < NOW() - INTERVAL 1 DAY;\n",
    "\"\"\"\n",
    "cursor.execute(query)\n",
    "for row in cursor.fetchall():\n",
    "    print(row)\n"
   ]
  },
  {
   "cell_type": "code",
   "execution_count": 13,
   "id": "3939b30f-e342-47e0-bcc8-d9b6050b8a9a",
   "metadata": {},
   "outputs": [
    {
     "data": {
      "image/png": "[encoded data removed]",
      "text/plain": [
       "<Figure size 640x480 with 1 Axes>"
      ]
     },
     "metadata": {},
     "output_type": "display_data"
    }
   ],
   "source": [
    "import matplotlib.pyplot as plt\n",
    "\n",
    "# Example: Pie Chart for Conversion vs Anonymous Activity\n",
    "anonymous_activity = get_total_anonymous_activity()\n",
    "conversions = anonymous_activity * (get_conversion_rate() / 100)\n",
    "non_conversions = anonymous_activity - conversions\n",
    "\n",
    "labels = ['Conversions', 'Non-Conversions']\n",
    "sizes = [conversions, non_conversions]\n",
    "\n",
    "plt.pie(sizes, labels=labels, autopct='%1.1f%%', startangle=140)\n",
    "plt.title(\"Anonymous Activity Conversion Rate\")\n",
    "plt.show()\n"
   ]
  },
  {
   "cell_type": "code",
   "execution_count": 18,
   "id": "24fd796c-1fe4-44ab-9808-887b662b52e6",
   "metadata": {},
   "outputs": [
    {
     "name": "stdout",
     "output_type": "stream",
     "text": [
      "Collecting flask-mail\n",
      "  Downloading flask_mail-0.10.0-py3-none-any.whl (8.5 kB)\n",
      "Requirement already satisfied: blinker in /Users/rv/opt/anaconda3/lib/python3.9/site-packages (from flask-mail) (1.9.0)\n",
      "Requirement already satisfied: flask in /Users/rv/opt/anaconda3/lib/python3.9/site-packages (from flask-mail) (3.1.0)\n",
      "Requirement already satisfied: Jinja2>=3.1.2 in /Users/rv/opt/anaconda3/lib/python3.9/site-packages (from flask->flask-mail) (3.1.4)\n",
      "Requirement already satisfied: click>=8.1.3 in /Users/rv/opt/anaconda3/lib/python3.9/site-packages (from flask->flask-mail) (8.1.7)\n",
      "Requirement already satisfied: importlib-metadata>=3.6 in /Users/rv/opt/anaconda3/lib/python3.9/site-packages (from flask->flask-mail) (4.11.3)\n",
      "Requirement already satisfied: itsdangerous>=2.2 in /Users/rv/opt/anaconda3/lib/python3.9/site-packages (from flask->flask-mail) (2.2.0)\n",
      "Requirement already satisfied: Werkzeug>=3.1 in /Users/rv/opt/anaconda3/lib/python3.9/site-packages (from flask->flask-mail) (3.1.3)\n",
      "Requirement already satisfied: zipp>=0.5 in /Users/rv/opt/anaconda3/lib/python3.9/site-packages (from importlib-metadata>=3.6->flask->flask-mail) (3.8.0)\n",
      "Requirement already satisfied: MarkupSafe>=2.0 in /Users/rv/opt/anaconda3/lib/python3.9/site-packages (from Jinja2>=3.1.2->flask->flask-mail) (3.0.2)\n",
      "Installing collected packages: flask-mail\n",
      "Successfully installed flask-mail-0.10.0\n",
      "Note: you may need to restart the kernel to use updated packages.\n"
     ]
    }
   ],
   "source": [
    "pip install flask-mail\n"
   ]
  },
  {
   "cell_type": "code",
   "execution_count": 20,
   "id": "40631bf1-efba-4ccf-aa47-2f1e2e957d1d",
   "metadata": {},
   "outputs": [
    {
     "name": "stdout",
     "output_type": "stream",
     "text": [
      " * Serving Flask app '__main__'\n",
      " * Debug mode: on\n"
     ]
    },
    {
     "name": "stderr",
     "output_type": "stream",
     "text": [
      "WARNING: This is a development server. Do not use it in a production deployment. Use a production WSGI server instead.\n",
      " * Running on http://127.0.0.1:5000\n",
      "Press CTRL+C to quit\n",
      " * Restarting with watchdog (fsevents)\n",
      "Traceback (most recent call last):\n",
      "  File \"/Users/rv/opt/anaconda3/lib/python3.9/site-packages/ipykernel_launcher.py\", line 15, in <module>\n",
      "    from ipykernel import kernelapp as app\n",
      "  File \"/Users/rv/opt/anaconda3/lib/python3.9/site-packages/ipykernel/kernelapp.py\", line 18, in <module>\n",
      "    from IPython.core.application import (\n",
      "  File \"/Users/rv/opt/anaconda3/lib/python3.9/site-packages/IPython/__init__.py\", line 56, in <module>\n",
      "    from .terminal.embed import embed\n",
      "  File \"/Users/rv/opt/anaconda3/lib/python3.9/site-packages/IPython/terminal/embed.py\", line 16, in <module>\n",
      "    from IPython.terminal.interactiveshell import TerminalInteractiveShell\n",
      "  File \"/Users/rv/opt/anaconda3/lib/python3.9/site-packages/IPython/terminal/interactiveshell.py\", line 35, in <module>\n",
      "    from .debugger import TerminalPdb, Pdb\n",
      "  File \"/Users/rv/opt/anaconda3/lib/python3.9/site-packages/IPython/terminal/debugger.py\", line 6, in <module>\n",
      "    from IPython.core.completer import IPCompleter\n",
      "  File \"/Users/rv/opt/anaconda3/lib/python3.9/site-packages/IPython/core/completer.py\", line 146, in <module>\n",
      "    import jedi\n",
      "  File \"/Users/rv/opt/anaconda3/lib/python3.9/site-packages/jedi/__init__.py\", line 32, in <module>\n",
      "    from jedi.api import Script, Interpreter, set_debug_function, preload_module\n",
      "  File \"/Users/rv/opt/anaconda3/lib/python3.9/site-packages/jedi/api/__init__.py\", line 13, in <module>\n",
      "    import parso\n",
      "  File \"/Users/rv/opt/anaconda3/lib/python3.9/site-packages/parso/__init__.py\", line 42, in <module>\n",
      "    from parso.grammar import Grammar, load_grammar\n",
      "  File \"/Users/rv/opt/anaconda3/lib/python3.9/site-packages/parso/grammar.py\", line 13, in <module>\n",
      "    from parso.cache import parser_cache, load_module, try_to_save_module\n",
      "  File \"/Users/rv/opt/anaconda3/lib/python3.9/site-packages/parso/cache.py\", line 76, in <module>\n",
      "    _default_cache_path = _get_default_cache_path()\n",
      "  File \"/Users/rv/opt/anaconda3/lib/python3.9/site-packages/parso/cache.py\", line 73, in _get_default_cache_path\n",
      "    return dir_.expanduser()\n",
      "AttributeError: 'PosixPath' object has no attribute 'expanduser'\n"
     ]
    },
    {
     "ename": "SystemExit",
     "evalue": "1",
     "output_type": "error",
     "traceback": [
      "An exception has occurred, use %tb to see the full traceback.\n",
      "\u001b[0;31mSystemExit\u001b[0m\u001b[0;31m:\u001b[0m 1\n"
     ]
    }
   ],
   "source": []
  },
  {
   "cell_type": "code",
   "execution_count": 21,
   "id": "3c3260de-dc2d-41d9-80e4-6bdfb76b3d47",
   "metadata": {},
   "outputs": [
    {
     "name": "stderr",
     "output_type": "stream",
     "text": [
      "E\n",
      "======================================================================\n",
      "ERROR: /Users/rv/Library/Jupyter/runtime/kernel-727a8414-7ec7-470e-8e92-b5da21e41a0e (unittest.loader._FailedTest)\n",
      "----------------------------------------------------------------------\n",
      "AttributeError: module '__main__' has no attribute '/Users/rv/Library/Jupyter/runtime/kernel-727a8414-7ec7-470e-8e92-b5da21e41a0e'\n",
      "\n",
      "----------------------------------------------------------------------\n",
      "Ran 1 test in 0.002s\n",
      "\n",
      "FAILED (errors=1)\n"
     ]
    },
    {
     "ename": "SystemExit",
     "evalue": "True",
     "output_type": "error",
     "traceback": [
      "An exception has occurred, use %tb to see the full traceback.\n",
      "\u001b[0;31mSystemExit\u001b[0m\u001b[0;31m:\u001b[0m True\n"
     ]
    },
    {
     "name": "stderr",
     "output_type": "stream",
     "text": [
      "/Users/rv/opt/anaconda3/lib/python3.9/site-packages/IPython/core/interactiveshell.py:3465: UserWarning: To exit: use 'exit', 'quit', or Ctrl-D.\n",
      "  warn(\"To exit: use 'exit', 'quit', or Ctrl-D.\", stacklevel=1)\n"
     ]
    }
   ],
   "source": []
  },
  {
   "cell_type": "code",
   "execution_count": 19,
   "id": "8f9a35ae-fe46-4e5e-be2a-d2ea69da0ead",
   "metadata": {},
   "outputs": [],
   "source": [
    "from flask import Flask, request\n",
    "from flask_mail import Mail, Message\n",
    "\n",
    "app = Flask(__name__)\n",
    "\n",
    "app.config['MAIL_SERVER'] = 'smtp.gmail.com'\n",
    "app.config['MAIL_PORT'] = 587\n",
    "app.config['MAIL_USE_TLS'] = True\n",
    "app.config['MAIL_USERNAME'] = 'your_email@gmail.com'\n",
    "app.config['MAIL_PASSWORD'] = 'your_password'\n",
    "\n",
    "mail = Mail(app)\n",
    "\n",
    "@app.route('/send-invite', methods=['POST'])\n",
    "def send_invite():\n",
    "    email = request.form['email']\n",
    "    msg = Message('Invitation to join User Retention App',\n",
    "                  sender='your_email@gmail.com',\n",
    "                  recipients=[email])\n",
    "    msg.body = 'You have been invited to join our platform. Click here to join!'\n",
    "    \n",
    "    try:\n",
    "        mail.send(msg)\n",
    "        return 'Invitation sent successfully!'\n",
    "    except Exception as e:\n",
    "        return str(e)\n"
   ]
  },
  {
   "cell_type": "code",
   "execution_count": null,
   "id": "fa733f2a-5755-4f50-9f5f-ae7e0245476e",
   "metadata": {},
   "outputs": [],
   "source": []
  }
 ],
 "metadata": {
  "kernelspec": {
   "display_name": "Python 3 (ipykernel)",
   "language": "python",
   "name": "python3"
  },
  "language_info": {
   "codemirror_mode": {
    "name": "ipython",
    "version": 3
   },
   "file_extension": ".py",
   "mimetype": "text/x-python",
   "name": "python",
   "nbconvert_exporter": "python",
   "pygments_lexer": "ipython3",
   "version": "3.9.13"
  }
 },
 "nbformat": 4,
 "nbformat_minor": 5
}
